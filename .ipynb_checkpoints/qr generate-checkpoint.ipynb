{
 "cells": [
  {
   "cell_type": "code",
   "execution_count": 2,
   "id": "0ac214a7-d316-456e-a4f8-be246590d33d",
   "metadata": {},
   "outputs": [],
   "source": [
    "import qrcode\n",
    "\n",
    "url = \" https://e998-14-99-57-3.ngrok-free.app\"  # Change to public IP/domain for deployment\n",
    "img = qrcode.make(url)\n",
    "img.save(\"qr_code.png\")\n"
   ]
  },
  {
   "cell_type": "code",
   "execution_count": null,
   "id": "91546e56-40b6-47b1-90f5-9c1123f4490e",
   "metadata": {},
   "outputs": [],
   "source": []
  }
 ],
 "metadata": {
  "kernelspec": {
   "display_name": "Python [conda env:base] *",
   "language": "python",
   "name": "conda-base-py"
  },
  "language_info": {
   "codemirror_mode": {
    "name": "ipython",
    "version": 3
   },
   "file_extension": ".py",
   "mimetype": "text/x-python",
   "name": "python",
   "nbconvert_exporter": "python",
   "pygments_lexer": "ipython3",
   "version": "3.12.7"
  }
 },
 "nbformat": 4,
 "nbformat_minor": 5
}
